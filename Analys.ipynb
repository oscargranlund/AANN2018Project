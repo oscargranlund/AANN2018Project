{
 "cells": [
  {
   "cell_type": "code",
   "execution_count": null,
   "metadata": {},
   "outputs": [],
   "source": [
    "import pandas as pd\n",
    "import keras as kr\n",
    "import numpy as np"
   ]
  },
  {
   "cell_type": "code",
   "execution_count": null,
   "metadata": {},
   "outputs": [],
   "source": [
    "# Read data from excel file\n",
    "kumpula   = pd.read_excel('Wind_speed_Kumpula_Sodankyla_2008.xlsx', usecols=[3, 4], skiprows=[0], header=[0], names=['Temp', 'Wind'])\n",
    "sodankylä = pd.read_excel('Wind_speed_Kumpula_Sodankyla_2008.xlsx', usecols=[5, 6], skiprows=[0], header=[0], names=['Temp', 'Wind'])\n",
    "\n",
    "# Create a flattened version with previous values in same row\n",
    "start = 1\n",
    "end = 5\n",
    "step = 1\n",
    "forecastStep = 1\n",
    "\n",
    "for i in range(start, end, step):\n",
    "    newColumnTemp = 'Temp-' + str(i)\n",
    "    newColumnWind = 'Wind-' + str(i)\n",
    "    kumpula  [newColumnTemp] = kumpula  .Temp.shift(i)\n",
    "    sodankylä[newColumnTemp] = sodankylä.Temp.shift(i)\n",
    "    kumpula  [newColumnWind] = kumpula  .Wind.shift(i)\n",
    "    sodankylä[newColumnWind] = sodankylä.Wind.shift(i)\n",
    "\n",
    "# Create \"target\" variable\n",
    "kumpula  ['Wind Target'] = kumpula  ['Wind'].shift(-1 * forecastStep)\n",
    "sodankylä['Wind Target'] = sodankylä['Wind'].shift(-1 * forecastStep)\n",
    "\n",
    "# Drop rows that have no values due to shifting (creating variables)\n",
    "indexesToDrop = list(range(start-1, end-1))\n",
    "indexesToDrop.append(len(kumpula)-1)\n",
    "kumpula  .drop(index=indexesToDrop, inplace=True)\n",
    "sodankylä.drop(index=indexesToDrop, inplace=True)\n",
    "\n",
    "# Reindex\n",
    "kumpula  .reset_index(drop=True, inplace=True)\n",
    "sodankylä.reset_index(drop=True, inplace=True)"
   ]
  },
  {
   "cell_type": "code",
   "execution_count": null,
   "metadata": {},
   "outputs": [],
   "source": [
    "# Create validation- and training sets as well as X- and Y-pairs\n",
    "kumpulaTraining   = kumpula  .sample(frac=0.8, random_state=2018)\n",
    "sodankyläTraining = sodankylä.sample(frac=0.8, random_state=2018)\n",
    "\n",
    "kumpulaTrainingX,   kumpulaTrainingY   = kumpulaTraining  .iloc[:, 0:10], kumpulaTraining  .iloc[:, 10]\n",
    "sodankyläTrainingX, sodankyläTrainingY = sodankyläTraining.iloc[:, 0:10], sodankyläTraining.iloc[:, 10]\n",
    " \n",
    "kumpulaValidation   = kumpula  [kumpula  .index.isin(kumpulaTraining.  index) == False]\n",
    "sodankyläValidation = sodankylä[sodankylä.index.isin(sodankyläTraining.index) == False]\n",
    "\n",
    "kumpulaValidationX,   kumpulaValidationY   = kumpulaValidation  .iloc[:, 0:10], kumpulaValidation  .iloc[:, 10]\n",
    "sodankyläValidationX, sodankyläValidationY = sodankyläValidation.iloc[:, 0:10], sodankyläValidation.iloc[:, 10]\n",
    "\n",
    "# Also want to try out combinin the datasets, maybe it has a regularizing effect?\n",
    "combinedTraining   = kumpulaTraining  .append(sodankyläTraining)\n",
    "combinedValidation = kumpulaValidation.append(sodankyläValidation)\n",
    "\n",
    "combinedTrainingX,   combinedTrainingY   = combinedTraining  .iloc[:, 0:10], combinedTraining  .iloc[:, 10]\n",
    "combinedValidationX, combinedValidationY = combinedValidation.iloc[:, 0:10], combinedValidation.iloc[:, 10]"
   ]
  },
  {
   "cell_type": "code",
   "execution_count": null,
   "metadata": {},
   "outputs": [],
   "source": [
    "# Model for Kumpula\n",
    "X_t, Y_t, X_v, Y_v = kumpulaTrainingX.values, kumpulaTrainingY.values, kumpulaValidationX.values, kumpulaValidationY.values\n",
    "\n",
    "KumpulaModel = kr.models.Sequential()\n",
    "KumpulaModel.add(kr.layers.Dense(16, input_dim=2 * (end - start + 1), activation='relu'))\n",
    "KumpulaModel.add(kr.layers.Dense(1, activation='linear'))\n",
    "\n",
    "KumpulaModel.compile(loss='mean_squared_error', optimizer='adam', metrics=['accuracy'])\n",
    "\n",
    "KumpulaModel.fit(X_t, Y_t, epochs=75, batch_size=256)\n",
    "\n",
    "scores = KumpulaModel.evaluate(X_v, Y_v)\n",
    "print(\"\\n%s: %.2f%%\" % (KumpulaModel.metrics_names[1], scores[1]*100))"
   ]
  },
  {
   "cell_type": "code",
   "execution_count": null,
   "metadata": {},
   "outputs": [],
   "source": [
    "# Model for Sodankylä\n",
    "X_t, Y_t, X_v, Y_v = sodankyläTrainingX.values, sodankyläTrainingY.values, sodankyläValidationX.values, sodankyläValidationY.values\n",
    "\n",
    "SodankyläModel = kr.models.Sequential()\n",
    "SodankyläModel.add(kr.layers.Dense(16, input_dim=2 * (end - start + 1), activation='relu'))\n",
    "SodankyläModel.add(kr.layers.Dense(1, activation='linear'))\n",
    "\n",
    "SodankyläModel.compile(loss='mean_squared_error', optimizer='adam', metrics=['accuracy'])\n",
    "\n",
    "SodankyläModel.fit(X_t, Y_t, epochs=75, batch_size=256)\n",
    "\n",
    "scores = SodankyläModel.evaluate(X_v, Y_v)\n",
    "print(\"\\n%s: %.2f%%\" % (SodankyläModel.metrics_names[1], scores[1]*100))"
   ]
  },
  {
   "cell_type": "code",
   "execution_count": null,
   "metadata": {},
   "outputs": [],
   "source": [
    "# Model for Combined\n",
    "X_t, Y_t, X_v, Y_v = combinedTrainingX.values, combinedTrainingY.values, combinedValidationX.values, combinedValidationY.values\n",
    "\n",
    "CombinedModel = kr.models.Sequential()\n",
    "CombinedModel.add(kr.layers.Dense(16, input_dim=2 * (end - start + 1), activation='relu'))\n",
    "CombinedModel.add(kr.layers.Dense(1, activation='linear'))\n",
    "\n",
    "CombinedModel.compile(loss='mean_squared_error', optimizer='adam', metrics=['accuracy'])\n",
    "\n",
    "CombinedModel.fit(X_t, Y_t, epochs=75, batch_size=256)\n",
    "\n",
    "scores = CombinedModel.evaluate(X_v, Y_v)\n",
    "print(\"\\n%s: %.2f%%\" % (CombinedModel.metrics_names[1], scores[1]*100))"
   ]
  },
  {
   "cell_type": "code",
   "execution_count": null,
   "metadata": {},
   "outputs": [],
   "source": []
  }
 ],
 "metadata": {
  "kernelspec": {
   "display_name": "Python 3",
   "language": "python",
   "name": "python3"
  },
  "language_info": {
   "codemirror_mode": {
    "name": "ipython",
    "version": 3
   },
   "file_extension": ".py",
   "mimetype": "text/x-python",
   "name": "python",
   "nbconvert_exporter": "python",
   "pygments_lexer": "ipython3",
   "version": "3.6.5"
  }
 },
 "nbformat": 4,
 "nbformat_minor": 2
}
